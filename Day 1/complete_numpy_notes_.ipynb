{
  "cells": [
    {
      "cell_type": "code",
      "execution_count": null,
      "id": "a198d9d1",
      "metadata": {
        "id": "a198d9d1"
      },
      "outputs": [],
      "source": [
        "import numpy as np"
      ]
    },
    {
      "cell_type": "markdown",
      "id": "9f0904fd",
      "metadata": {
        "id": "9f0904fd"
      },
      "source": [
        "# One dimensional array"
      ]
    },
    {
      "cell_type": "code",
      "execution_count": null,
      "id": "bb719abf",
      "metadata": {
        "collapsed": true,
        "id": "bb719abf",
        "outputId": "fe99f979-d158-4424-eaef-1cd6307d6477"
      },
      "outputs": [
        {
          "data": {
            "text/plain": [
              "array([1, 2, 3, 4, 5])"
            ]
          },
          "execution_count": 2,
          "metadata": {},
          "output_type": "execute_result"
        }
      ],
      "source": [
        "a = [1,2,3,4,5]\n",
        "b = np.array(a)\n",
        "b"
      ]
    },
    {
      "cell_type": "code",
      "execution_count": null,
      "id": "f7d11634",
      "metadata": {
        "id": "f7d11634",
        "outputId": "396cd3ab-9e9d-4296-d2a9-0c564e41d127"
      },
      "outputs": [
        {
          "name": "stdout",
          "output_type": "stream",
          "text": [
            "Enter size:5\n",
            "Enter number:1\n",
            "Enter number:2\n",
            "Enter number:3\n",
            "Enter number:4\n",
            "Enter number:5\n",
            "[1, 2, 3, 4, 5]\n"
          ]
        },
        {
          "data": {
            "text/plain": [
              "array([1, 2, 3, 4, 5])"
            ]
          },
          "execution_count": 3,
          "metadata": {},
          "output_type": "execute_result"
        }
      ],
      "source": [
        "a = []\n",
        "size  = int(input(\"Enter size:\"))\n",
        "for i in range(size):\n",
        "    val = int(input(\"Enter number:\"))\n",
        "    a.append(val)\n",
        "\n",
        "print(a)\n",
        "b = np.array(a)\n",
        "b"
      ]
    },
    {
      "cell_type": "markdown",
      "id": "5fa33080",
      "metadata": {
        "id": "5fa33080"
      },
      "source": [
        "# Two dimensional array"
      ]
    },
    {
      "cell_type": "code",
      "execution_count": null,
      "id": "d1f78345",
      "metadata": {
        "id": "d1f78345",
        "outputId": "88fff0eb-11be-4067-f625-e72e7b9b26ef"
      },
      "outputs": [
        {
          "data": {
            "text/plain": [
              "array([[1, 2, 3],\n",
              "       [4, 5, 6],\n",
              "       [7, 8, 9]])"
            ]
          },
          "execution_count": 4,
          "metadata": {},
          "output_type": "execute_result"
        }
      ],
      "source": [
        "a  = [[1,2,3] , [4,5,6] , [7,8,9]]\n",
        "b = np.array(a)\n",
        "b"
      ]
    },
    {
      "cell_type": "markdown",
      "id": "424d15a9",
      "metadata": {
        "id": "424d15a9"
      },
      "source": [
        "# How to check size and diemnsion of an array  ?"
      ]
    },
    {
      "cell_type": "code",
      "execution_count": null,
      "id": "da09de42",
      "metadata": {
        "id": "da09de42",
        "outputId": "0e1d4dc2-439a-47b1-b8f2-57b9fb6b525a"
      },
      "outputs": [
        {
          "data": {
            "text/plain": [
              "array([[1, 2, 3],\n",
              "       [4, 5, 6],\n",
              "       [7, 8, 9]])"
            ]
          },
          "execution_count": 5,
          "metadata": {},
          "output_type": "execute_result"
        }
      ],
      "source": [
        "a  = [[1,2,3] , [4,5,6] , [7,8,9]]\n",
        "b = np.array(a)\n",
        "b\n"
      ]
    },
    {
      "cell_type": "code",
      "execution_count": null,
      "id": "2c2bb7f9",
      "metadata": {
        "id": "2c2bb7f9",
        "outputId": "0de5acba-db1a-4236-9aa5-649a79f0c6a3"
      },
      "outputs": [
        {
          "name": "stdout",
          "output_type": "stream",
          "text": [
            "Total Dimensions : 2\n",
            "Shape of an array : (3, 3)\n"
          ]
        }
      ],
      "source": [
        "print(\"Total Dimensions :\" , b.ndim)\n",
        "print(\"Shape of an array :\" , b.shape)"
      ]
    },
    {
      "cell_type": "markdown",
      "id": "85bb4bc0",
      "metadata": {
        "id": "85bb4bc0"
      },
      "source": [
        "# Numpy Functions ==>\n",
        "\n"
      ]
    },
    {
      "cell_type": "markdown",
      "id": "41d3704d",
      "metadata": {
        "id": "41d3704d"
      },
      "source": [
        "# 1 . Zeros ==> This function create an array (either one dimensional or multi dimensional) and fill all the values with zeros ."
      ]
    },
    {
      "cell_type": "code",
      "execution_count": null,
      "id": "61249a7d",
      "metadata": {
        "id": "61249a7d",
        "outputId": "84260273-b949-49a7-a0f2-9cd2928e9aa6"
      },
      "outputs": [
        {
          "data": {
            "text/plain": [
              "array([0., 0., 0., 0., 0.])"
            ]
          },
          "execution_count": 7,
          "metadata": {},
          "output_type": "execute_result"
        }
      ],
      "source": [
        "import numpy as np\n",
        "a = np.zeros(5)\n",
        "a"
      ]
    },
    {
      "cell_type": "code",
      "execution_count": null,
      "id": "b8aebb3d",
      "metadata": {
        "id": "b8aebb3d",
        "outputId": "9cf88927-eeaa-4406-b7b8-98351e134884"
      },
      "outputs": [
        {
          "data": {
            "text/plain": [
              "array([[0., 0., 0.],\n",
              "       [0., 0., 0.]])"
            ]
          },
          "execution_count": 8,
          "metadata": {},
          "output_type": "execute_result"
        }
      ],
      "source": [
        "b = np.zeros((2,3))\n",
        "b"
      ]
    },
    {
      "cell_type": "code",
      "execution_count": null,
      "id": "d3f0c47f",
      "metadata": {
        "id": "d3f0c47f",
        "outputId": "af9efa25-16b0-4c30-c237-b88945e5778c"
      },
      "outputs": [
        {
          "data": {
            "text/plain": [
              "2"
            ]
          },
          "execution_count": 9,
          "metadata": {},
          "output_type": "execute_result"
        }
      ],
      "source": [
        "b.ndim"
      ]
    },
    {
      "cell_type": "code",
      "execution_count": null,
      "id": "e0d20f15",
      "metadata": {
        "id": "e0d20f15",
        "outputId": "8ae4037b-165b-45c2-ff29-3ad57be51d48"
      },
      "outputs": [
        {
          "data": {
            "text/plain": [
              "1"
            ]
          },
          "execution_count": 10,
          "metadata": {},
          "output_type": "execute_result"
        }
      ],
      "source": [
        "a.ndim"
      ]
    },
    {
      "cell_type": "markdown",
      "id": "257ebb33",
      "metadata": {
        "id": "257ebb33"
      },
      "source": [
        "# 2 . Ones ==> This function creats an array (either one dimensional or multi dimensional) and fill all the values with one ."
      ]
    },
    {
      "cell_type": "code",
      "execution_count": null,
      "id": "06c5b6aa",
      "metadata": {
        "id": "06c5b6aa",
        "outputId": "ec289c81-54d8-4681-b447-aac240d0e903"
      },
      "outputs": [
        {
          "data": {
            "text/plain": [
              "array([1., 1., 1., 1., 1.])"
            ]
          },
          "execution_count": 11,
          "metadata": {},
          "output_type": "execute_result"
        }
      ],
      "source": [
        "import  numpy as np\n",
        "a = np.ones(5)\n",
        "a"
      ]
    },
    {
      "cell_type": "code",
      "execution_count": null,
      "id": "c5c9b9e0",
      "metadata": {
        "id": "c5c9b9e0",
        "outputId": "c725bedd-c4dc-4a0f-c1fb-abb161cd24fe"
      },
      "outputs": [
        {
          "data": {
            "text/plain": [
              "array([[1., 1., 1.],\n",
              "       [1., 1., 1.]])"
            ]
          },
          "execution_count": 12,
          "metadata": {},
          "output_type": "execute_result"
        }
      ],
      "source": [
        "b = np.ones((2,3))\n",
        "b"
      ]
    },
    {
      "cell_type": "markdown",
      "id": "6c44bd8e",
      "metadata": {
        "id": "6c44bd8e"
      },
      "source": [
        "# 3 . eye ==> This function creats an array with all the digonal elements as 1 and rest are 0(In square matrix). In non-square matrix the value are sstill one for digonal (upto which it can draw digonal ) and rest are zero ."
      ]
    },
    {
      "cell_type": "code",
      "execution_count": null,
      "id": "af136623",
      "metadata": {
        "id": "af136623",
        "outputId": "dd4a703b-41c2-464f-e459-7ee8f4f988e6"
      },
      "outputs": [
        {
          "data": {
            "text/plain": [
              "array([[1., 0., 0.],\n",
              "       [0., 1., 0.],\n",
              "       [0., 0., 1.]])"
            ]
          },
          "execution_count": 13,
          "metadata": {},
          "output_type": "execute_result"
        }
      ],
      "source": [
        "import numpy as np\n",
        "a = np.eye(3)\n",
        "a"
      ]
    },
    {
      "cell_type": "code",
      "execution_count": null,
      "id": "43a0895d",
      "metadata": {
        "id": "43a0895d",
        "outputId": "ef612d48-424e-4b8d-c274-5efb39cce66d"
      },
      "outputs": [
        {
          "data": {
            "text/plain": [
              "array([[1., 0., 0., 0.],\n",
              "       [0., 1., 0., 0.],\n",
              "       [0., 0., 1., 0.]])"
            ]
          },
          "execution_count": 14,
          "metadata": {},
          "output_type": "execute_result"
        }
      ],
      "source": [
        "b = np.eye(3,4)\n",
        "b"
      ]
    },
    {
      "cell_type": "markdown",
      "id": "3e4a9819",
      "metadata": {
        "id": "3e4a9819"
      },
      "source": [
        "# 4 . diag ==> This function creats a two dimensional array with all the digonal elements as the given value and rest are zero ."
      ]
    },
    {
      "cell_type": "code",
      "execution_count": null,
      "id": "5388e15a",
      "metadata": {
        "id": "5388e15a",
        "outputId": "7db6a556-07f0-4201-c727-c062b502368a"
      },
      "outputs": [
        {
          "data": {
            "text/plain": [
              "array([[1, 0, 0, 0],\n",
              "       [0, 4, 0, 0],\n",
              "       [0, 0, 8, 0],\n",
              "       [0, 0, 0, 9]])"
            ]
          },
          "execution_count": 15,
          "metadata": {},
          "output_type": "execute_result"
        }
      ],
      "source": [
        "import numpy as np\n",
        "a = np.diag([1,4,8,9])\n",
        "a"
      ]
    },
    {
      "cell_type": "markdown",
      "id": "98310f54",
      "metadata": {
        "id": "98310f54"
      },
      "source": [
        "# 5 . randint ==> This  function is used to generate a random number between a given range ."
      ]
    },
    {
      "cell_type": "markdown",
      "id": "98dd01e4",
      "metadata": {
        "id": "98dd01e4"
      },
      "source": [
        "# syntax == randint(min_value , max_value , total_numbers)"
      ]
    },
    {
      "cell_type": "code",
      "execution_count": null,
      "id": "6a0162a2",
      "metadata": {
        "id": "6a0162a2",
        "outputId": "89e02d46-e4c2-4946-eb4f-c9f2cdaa76e2"
      },
      "outputs": [
        {
          "data": {
            "text/plain": [
              "array([6, 9, 4])"
            ]
          },
          "execution_count": 18,
          "metadata": {},
          "output_type": "execute_result"
        }
      ],
      "source": [
        "import numpy as np\n",
        "a = np.random.randint(1,10,3)\n",
        "a"
      ]
    },
    {
      "cell_type": "markdown",
      "id": "56229a57",
      "metadata": {
        "id": "56229a57"
      },
      "source": [
        "# 6 . rand() ==> This function is used to generate a random number between 0 to 1 ."
      ]
    },
    {
      "cell_type": "markdown",
      "id": "126e36e2",
      "metadata": {
        "id": "126e36e2"
      },
      "source": [
        "# syntax == rand(numberof values)"
      ]
    },
    {
      "cell_type": "code",
      "execution_count": null,
      "id": "4274e09a",
      "metadata": {
        "id": "4274e09a",
        "outputId": "79b7aa43-00a0-46fb-991b-22276231d0bc"
      },
      "outputs": [
        {
          "data": {
            "text/plain": [
              "array([0.06708846, 0.07141926, 0.24761339, 0.64343346, 0.98412292])"
            ]
          },
          "execution_count": 19,
          "metadata": {},
          "output_type": "execute_result"
        }
      ],
      "source": [
        "import numpy as np\n",
        "\n",
        "a = np.random.rand(5)\n",
        "a"
      ]
    },
    {
      "cell_type": "markdown",
      "id": "33ddeb14",
      "metadata": {
        "id": "33ddeb14"
      },
      "source": [
        "# 7 . randn() ==> This function is used to generate a random number from -3 to close 3 . This may return positive or negative numbers as well ."
      ]
    },
    {
      "cell_type": "markdown",
      "id": "d1be8281",
      "metadata": {
        "id": "d1be8281"
      },
      "source": [
        "# syntax == random.randn(number of values)"
      ]
    },
    {
      "cell_type": "code",
      "execution_count": null,
      "id": "f928ae3a",
      "metadata": {
        "id": "f928ae3a",
        "outputId": "4c01376d-43a6-4ed1-f9d1-3a555f7fe351"
      },
      "outputs": [
        {
          "data": {
            "text/plain": [
              "array([-0.83676406, -0.64319371,  1.93291174,  0.85973616, -0.26271558])"
            ]
          },
          "execution_count": 20,
          "metadata": {},
          "output_type": "execute_result"
        }
      ],
      "source": [
        "import numpy as np\n",
        "a = np.random.randn(5)\n",
        "a"
      ]
    },
    {
      "cell_type": "markdown",
      "id": "9ce1fb53",
      "metadata": {
        "id": "9ce1fb53"
      },
      "source": [
        "# Reshaping Data"
      ]
    },
    {
      "cell_type": "code",
      "execution_count": null,
      "id": "f7e4a7c3",
      "metadata": {
        "id": "f7e4a7c3",
        "outputId": "39751b37-d9b5-4a3a-b7c5-fee7fb02abec"
      },
      "outputs": [
        {
          "data": {
            "text/plain": [
              "array([36, 23, 31, 30,  9, 29, 41, 13, 11, 23, 13, 45])"
            ]
          },
          "execution_count": 21,
          "metadata": {},
          "output_type": "execute_result"
        }
      ],
      "source": [
        "import numpy as np\n",
        "\n",
        "a = np.random.randint(1,50,12)\n",
        "\n",
        "a"
      ]
    },
    {
      "cell_type": "code",
      "execution_count": null,
      "id": "e40983cb",
      "metadata": {
        "id": "e40983cb",
        "outputId": "6c9f44ed-a990-40d7-a0c4-a9f4e2ce5a07"
      },
      "outputs": [
        {
          "data": {
            "text/plain": [
              "(12,)"
            ]
          },
          "execution_count": 22,
          "metadata": {},
          "output_type": "execute_result"
        }
      ],
      "source": [
        "a.shape"
      ]
    },
    {
      "cell_type": "code",
      "execution_count": null,
      "id": "1fdd53bd",
      "metadata": {
        "id": "1fdd53bd",
        "outputId": "fbdb957b-32d9-4aaa-e416-318b385503a8"
      },
      "outputs": [
        {
          "data": {
            "text/plain": [
              "array([[36, 23, 31, 30,  9, 29],\n",
              "       [41, 13, 11, 23, 13, 45]])"
            ]
          },
          "execution_count": 23,
          "metadata": {},
          "output_type": "execute_result"
        }
      ],
      "source": [
        "a = a.reshape(2,6)\n",
        "a"
      ]
    },
    {
      "cell_type": "code",
      "execution_count": null,
      "id": "9226f07f",
      "metadata": {
        "id": "9226f07f",
        "outputId": "f042d596-5413-42d0-8fa9-e1909e41df52"
      },
      "outputs": [
        {
          "data": {
            "text/plain": [
              "array([[36, 23],\n",
              "       [31, 30],\n",
              "       [ 9, 29],\n",
              "       [41, 13],\n",
              "       [11, 23],\n",
              "       [13, 45]])"
            ]
          },
          "execution_count": 25,
          "metadata": {},
          "output_type": "execute_result"
        }
      ],
      "source": [
        "a = a.reshape(6,2)\n",
        "a"
      ]
    },
    {
      "cell_type": "code",
      "execution_count": null,
      "id": "8ed88acd",
      "metadata": {
        "id": "8ed88acd",
        "outputId": "fc4ad3de-0372-4985-a8a8-e9ee9ba1e11a"
      },
      "outputs": [
        {
          "data": {
            "text/plain": [
              "array([[36, 23, 31, 30],\n",
              "       [ 9, 29, 41, 13],\n",
              "       [11, 23, 13, 45]])"
            ]
          },
          "execution_count": 26,
          "metadata": {},
          "output_type": "execute_result"
        }
      ],
      "source": [
        "a = a.reshape(3,4)\n",
        "a"
      ]
    },
    {
      "cell_type": "code",
      "execution_count": null,
      "id": "9c95237a",
      "metadata": {
        "id": "9c95237a",
        "outputId": "1e31f99d-18d3-4fd5-f828-caf89a462bad"
      },
      "outputs": [
        {
          "data": {
            "text/plain": [
              "array([[36, 23, 31],\n",
              "       [30,  9, 29],\n",
              "       [41, 13, 11],\n",
              "       [23, 13, 45]])"
            ]
          },
          "execution_count": 28,
          "metadata": {},
          "output_type": "execute_result"
        }
      ],
      "source": [
        "a = a.reshape(4,3)\n",
        "a"
      ]
    },
    {
      "cell_type": "code",
      "execution_count": null,
      "id": "f1baf700",
      "metadata": {
        "id": "f1baf700",
        "outputId": "11012162-634c-44bc-8799-9ce345d50659"
      },
      "outputs": [
        {
          "data": {
            "text/plain": [
              "array([[36],\n",
              "       [23],\n",
              "       [31],\n",
              "       [30],\n",
              "       [ 9],\n",
              "       [29],\n",
              "       [41],\n",
              "       [13],\n",
              "       [11],\n",
              "       [23],\n",
              "       [13],\n",
              "       [45]])"
            ]
          },
          "execution_count": 30,
          "metadata": {},
          "output_type": "execute_result"
        }
      ],
      "source": [
        "a = a.reshape(12,1)\n",
        "a"
      ]
    },
    {
      "cell_type": "markdown",
      "id": "cdca036d",
      "metadata": {
        "id": "cdca036d"
      },
      "source": [
        "# principal of -1"
      ]
    },
    {
      "cell_type": "code",
      "execution_count": null,
      "id": "3eff751a",
      "metadata": {
        "id": "3eff751a",
        "outputId": "e8eb21cd-e823-4232-f03f-3cb83b949df8"
      },
      "outputs": [
        {
          "data": {
            "text/plain": [
              "array([[36, 23, 31, 30],\n",
              "       [ 9, 29, 41, 13],\n",
              "       [11, 23, 13, 45]])"
            ]
          },
          "execution_count": 33,
          "metadata": {},
          "output_type": "execute_result"
        }
      ],
      "source": [
        "a = a.reshape(-1 , 4)\n",
        "a"
      ]
    },
    {
      "cell_type": "markdown",
      "id": "0496661a",
      "metadata": {
        "id": "0496661a"
      },
      "source": [
        "# Seed Function ()  ==> We know that randint function generates random numbers . Everytime we run the program  , new set of random number is generated . So , solve this problem we will use seed function ."
      ]
    },
    {
      "cell_type": "code",
      "execution_count": null,
      "id": "fa6e6fc1",
      "metadata": {
        "id": "fa6e6fc1",
        "outputId": "77ee909f-71ce-4c12-8266-0fcb8c94d07c"
      },
      "outputs": [
        {
          "data": {
            "text/plain": [
              "array([76, 28,  7,  3,  4, 68, 77, 49, 23, 50])"
            ]
          },
          "execution_count": 36,
          "metadata": {},
          "output_type": "execute_result"
        }
      ],
      "source": [
        "import numpy as np\n",
        "\n",
        "np.random.seed(12)\n",
        "a = np.random.randint(1,100 , 10)\n",
        "a"
      ]
    },
    {
      "cell_type": "markdown",
      "id": "295a8a1f",
      "metadata": {
        "id": "295a8a1f"
      },
      "source": [
        "#### np.random.seed(111)\n",
        "a = np.random.randint(1,500,30).reshape(6,5)\n",
        "a"
      ]
    },
    {
      "cell_type": "markdown",
      "id": "6f0012f3",
      "metadata": {
        "id": "6f0012f3"
      },
      "source": [
        "# View Vs Copy ==> When we slice a sub-array from an array , it may be done by two ways ."
      ]
    },
    {
      "cell_type": "code",
      "execution_count": null,
      "id": "a9d58f7f",
      "metadata": {
        "id": "a9d58f7f",
        "outputId": "0fb336f8-b15f-4ca2-a395-5e95b91d0c97"
      },
      "outputs": [
        {
          "data": {
            "text/plain": [
              "array([10, 20, 30,  0,  0,  0, 70, 80])"
            ]
          },
          "execution_count": 39,
          "metadata": {},
          "output_type": "execute_result"
        }
      ],
      "source": [
        "import numpy as np\n",
        "a = np.array([10 , 20 , 30 , 40 , 50 , 60 , 70 , 80 ])\n",
        "b = a[3:6]\n",
        "b[:] = 0\n",
        "a"
      ]
    },
    {
      "cell_type": "markdown",
      "id": "65de0e30",
      "metadata": {
        "id": "65de0e30"
      },
      "source": [
        "# copy"
      ]
    },
    {
      "cell_type": "code",
      "execution_count": null,
      "id": "5f75dc93",
      "metadata": {
        "id": "5f75dc93",
        "outputId": "4a7aaf4f-408c-49a5-e165-4dc5618dd420"
      },
      "outputs": [
        {
          "data": {
            "text/plain": [
              "array([10, 20, 30, 40, 50, 60, 70, 80])"
            ]
          },
          "execution_count": 40,
          "metadata": {},
          "output_type": "execute_result"
        }
      ],
      "source": [
        "a = np.array([10 , 20 , 30 , 40 , 50 , 60 , 70 , 80 ])\n",
        "b = a[3:6].copy()\n",
        "b[:] = 0\n",
        "a"
      ]
    },
    {
      "cell_type": "code",
      "execution_count": null,
      "id": "8c560307",
      "metadata": {
        "id": "8c560307",
        "outputId": "32bab0ad-74c6-4187-b851-a8bbfe226948"
      },
      "outputs": [
        {
          "data": {
            "text/plain": [
              "array([0, 0, 0])"
            ]
          },
          "execution_count": 41,
          "metadata": {},
          "output_type": "execute_result"
        }
      ],
      "source": [
        "b"
      ]
    },
    {
      "cell_type": "markdown",
      "id": "b4da5968",
      "metadata": {
        "id": "b4da5968"
      },
      "source": [
        "# conditional selection"
      ]
    },
    {
      "cell_type": "code",
      "execution_count": null,
      "id": "8b314f0e",
      "metadata": {
        "id": "8b314f0e",
        "outputId": "50d26c02-d241-401e-c3ca-0d0734161c8f"
      },
      "outputs": [
        {
          "data": {
            "text/plain": [
              "array([ 1,  2,  3,  4,  5,  6,  7,  8,  9, 10, 11, 12, 13, 14, 15])"
            ]
          },
          "execution_count": 42,
          "metadata": {},
          "output_type": "execute_result"
        }
      ],
      "source": [
        "import numpy as np\n",
        "a = np.arange(1,16)\n",
        "a"
      ]
    },
    {
      "cell_type": "code",
      "execution_count": null,
      "id": "2a587921",
      "metadata": {
        "id": "2a587921",
        "outputId": "5591f416-f7c2-41c3-d6a2-f05291ff5d50"
      },
      "outputs": [
        {
          "data": {
            "text/plain": [
              "array([False, False, False, False, False, False, False, False, False,\n",
              "       False,  True,  True,  True,  True,  True])"
            ]
          },
          "execution_count": 43,
          "metadata": {},
          "output_type": "execute_result"
        }
      ],
      "source": [
        "a>10"
      ]
    },
    {
      "cell_type": "code",
      "execution_count": null,
      "id": "c2fb7f15",
      "metadata": {
        "id": "c2fb7f15",
        "outputId": "8a371b12-5a90-4efe-cac3-c068dc652209"
      },
      "outputs": [
        {
          "data": {
            "text/plain": [
              "array([ True,  True,  True,  True,  True,  True,  True,  True,  True,\n",
              "       False, False, False, False, False, False])"
            ]
          },
          "execution_count": 44,
          "metadata": {},
          "output_type": "execute_result"
        }
      ],
      "source": [
        "a<10"
      ]
    },
    {
      "cell_type": "code",
      "execution_count": null,
      "id": "4397b2aa",
      "metadata": {
        "id": "4397b2aa",
        "outputId": "d2912351-dd61-47ab-b531-cd51328b0fb7"
      },
      "outputs": [
        {
          "data": {
            "text/plain": [
              "array([11, 12, 13, 14, 15])"
            ]
          },
          "execution_count": 46,
          "metadata": {},
          "output_type": "execute_result"
        }
      ],
      "source": [
        "b = a>10\n",
        "a[b]"
      ]
    },
    {
      "cell_type": "code",
      "execution_count": null,
      "id": "a1ea16f1",
      "metadata": {
        "id": "a1ea16f1",
        "outputId": "1d11ff3d-e37e-419e-f8cc-e5c1e697c517"
      },
      "outputs": [
        {
          "data": {
            "text/plain": [
              "array([ 2,  4,  6,  8, 10, 12, 14])"
            ]
          },
          "execution_count": 47,
          "metadata": {},
          "output_type": "execute_result"
        }
      ],
      "source": [
        "a[a%2 == 0]"
      ]
    },
    {
      "cell_type": "markdown",
      "id": "fa06821d",
      "metadata": {
        "id": "fa06821d"
      },
      "source": [
        "# Operations on Array"
      ]
    },
    {
      "cell_type": "code",
      "execution_count": null,
      "id": "e0bebead",
      "metadata": {
        "id": "e0bebead",
        "outputId": "c6c689ac-d2e9-4639-de17-a41b65dd14b2"
      },
      "outputs": [
        {
          "data": {
            "text/plain": [
              "array([2, 4, 6, 8])"
            ]
          },
          "execution_count": 52,
          "metadata": {},
          "output_type": "execute_result"
        }
      ],
      "source": [
        "import numpy as np\n",
        "a = np.arange(1,5)\n",
        "a*2"
      ]
    },
    {
      "cell_type": "code",
      "execution_count": null,
      "id": "a09831e5",
      "metadata": {
        "id": "a09831e5",
        "outputId": "0d27b902-4671-4350-8f59-1309bf0560e5"
      },
      "outputs": [
        {
          "data": {
            "text/plain": [
              "array([3, 4, 5, 6])"
            ]
          },
          "execution_count": 49,
          "metadata": {},
          "output_type": "execute_result"
        }
      ],
      "source": [
        "a+2"
      ]
    },
    {
      "cell_type": "code",
      "execution_count": null,
      "id": "3f9a09f3",
      "metadata": {
        "id": "3f9a09f3",
        "outputId": "0f9778c7-926b-4744-960d-dfc7e3c371e0"
      },
      "outputs": [
        {
          "data": {
            "text/plain": [
              "array([ 1,  4,  9, 16], dtype=int32)"
            ]
          },
          "execution_count": 50,
          "metadata": {},
          "output_type": "execute_result"
        }
      ],
      "source": [
        "a**2"
      ]
    },
    {
      "cell_type": "code",
      "execution_count": null,
      "id": "5353fe1c",
      "metadata": {
        "id": "5353fe1c",
        "outputId": "2bc1ec03-b0da-4db8-ea56-ceb50432c7d3"
      },
      "outputs": [
        {
          "data": {
            "text/plain": [
              "array([[1, 2],\n",
              "       [3, 4]])"
            ]
          },
          "execution_count": 60,
          "metadata": {},
          "output_type": "execute_result"
        }
      ],
      "source": [
        "a  = np.array([1,2,3,4]).reshape(2,2)\n",
        "a"
      ]
    },
    {
      "cell_type": "code",
      "execution_count": null,
      "id": "0b5920da",
      "metadata": {
        "id": "0b5920da",
        "outputId": "f503a5b0-51d0-4253-8a4a-8e1cfe57627a"
      },
      "outputs": [
        {
          "data": {
            "text/plain": [
              "array([[5, 6],\n",
              "       [7, 8]])"
            ]
          },
          "execution_count": 61,
          "metadata": {},
          "output_type": "execute_result"
        }
      ],
      "source": [
        "b = np.array([5,6,7,8]).reshape(2,2)\n",
        "b"
      ]
    },
    {
      "cell_type": "code",
      "execution_count": null,
      "id": "e9939f13",
      "metadata": {
        "id": "e9939f13",
        "outputId": "e4527cbd-b942-4d5e-df3c-43d34806d528"
      },
      "outputs": [
        {
          "data": {
            "text/plain": [
              "array([[ 6,  8],\n",
              "       [10, 12]])"
            ]
          },
          "execution_count": 55,
          "metadata": {},
          "output_type": "execute_result"
        }
      ],
      "source": [
        "a+b"
      ]
    },
    {
      "cell_type": "code",
      "execution_count": null,
      "id": "cd4cc5f4",
      "metadata": {
        "id": "cd4cc5f4",
        "outputId": "c9d3f822-21b8-4a43-a3fc-fa1125d0d77d"
      },
      "outputs": [
        {
          "data": {
            "text/plain": [
              "array([[4, 4],\n",
              "       [4, 4]])"
            ]
          },
          "execution_count": 56,
          "metadata": {},
          "output_type": "execute_result"
        }
      ],
      "source": [
        "b-a"
      ]
    },
    {
      "cell_type": "code",
      "execution_count": null,
      "id": "2949c9fe",
      "metadata": {
        "id": "2949c9fe",
        "outputId": "de31b893-89ce-46da-9317-3961b09e2a42"
      },
      "outputs": [
        {
          "data": {
            "text/plain": [
              "array([[5.        , 3.        ],\n",
              "       [2.33333333, 2.        ]])"
            ]
          },
          "execution_count": 57,
          "metadata": {},
          "output_type": "execute_result"
        }
      ],
      "source": [
        "b/a"
      ]
    },
    {
      "cell_type": "code",
      "execution_count": null,
      "id": "06ce43f7",
      "metadata": {
        "id": "06ce43f7",
        "outputId": "8307f906-2fdd-4703-8f1e-bab523f1a325"
      },
      "outputs": [
        {
          "data": {
            "text/plain": [
              "array([[ 5, 12],\n",
              "       [21, 32]])"
            ]
          },
          "execution_count": 58,
          "metadata": {},
          "output_type": "execute_result"
        }
      ],
      "source": [
        "a*b"
      ]
    },
    {
      "cell_type": "code",
      "execution_count": null,
      "id": "267578e2",
      "metadata": {
        "id": "267578e2",
        "outputId": "6b25f524-5a99-4224-e5b4-3b7eb8798aa6"
      },
      "outputs": [
        {
          "data": {
            "text/plain": [
              "array([[19, 22],\n",
              "       [43, 50]])"
            ]
          },
          "execution_count": 59,
          "metadata": {},
          "output_type": "execute_result"
        }
      ],
      "source": [
        "a.dot(b)"
      ]
    },
    {
      "cell_type": "markdown",
      "id": "5af44183",
      "metadata": {
        "id": "5af44183"
      },
      "source": [
        "# some more important numpy functions"
      ]
    },
    {
      "cell_type": "code",
      "execution_count": null,
      "id": "8c727c9c",
      "metadata": {
        "id": "8c727c9c",
        "outputId": "4a294681-adfc-4936-bff4-0371635d28ff"
      },
      "outputs": [
        {
          "data": {
            "text/plain": [
              "10"
            ]
          },
          "execution_count": 62,
          "metadata": {},
          "output_type": "execute_result"
        }
      ],
      "source": [
        "import  numpy as np\n",
        "a = np.array([10,20,30,40,50])\n",
        "np.min(a)"
      ]
    },
    {
      "cell_type": "code",
      "execution_count": null,
      "id": "a7ba27c2",
      "metadata": {
        "id": "a7ba27c2",
        "outputId": "173584a1-f81f-4974-b86e-12e11e91fa58"
      },
      "outputs": [
        {
          "data": {
            "text/plain": [
              "50"
            ]
          },
          "execution_count": 63,
          "metadata": {},
          "output_type": "execute_result"
        }
      ],
      "source": [
        "np.max(a)"
      ]
    },
    {
      "cell_type": "code",
      "execution_count": null,
      "id": "b456a7c8",
      "metadata": {
        "id": "b456a7c8",
        "outputId": "e84fd799-067c-4988-f431-beec09df721f"
      },
      "outputs": [
        {
          "data": {
            "text/plain": [
              "0"
            ]
          },
          "execution_count": 64,
          "metadata": {},
          "output_type": "execute_result"
        }
      ],
      "source": [
        "np.argmin(a)"
      ]
    },
    {
      "cell_type": "code",
      "execution_count": null,
      "id": "4969031e",
      "metadata": {
        "id": "4969031e",
        "outputId": "01b07946-5f37-432b-a1c5-cc47f6319558"
      },
      "outputs": [
        {
          "data": {
            "text/plain": [
              "4"
            ]
          },
          "execution_count": 65,
          "metadata": {},
          "output_type": "execute_result"
        }
      ],
      "source": [
        "np.argmax(a)"
      ]
    },
    {
      "cell_type": "code",
      "execution_count": null,
      "id": "4875fc06",
      "metadata": {
        "id": "4875fc06",
        "outputId": "e400d781-1dbc-49c9-848a-f9224c6c5a64"
      },
      "outputs": [
        {
          "data": {
            "text/plain": [
              "array([3.16227766, 4.47213595, 5.47722558, 6.32455532, 7.07106781])"
            ]
          },
          "execution_count": 66,
          "metadata": {},
          "output_type": "execute_result"
        }
      ],
      "source": [
        "np.sqrt(a)"
      ]
    },
    {
      "cell_type": "code",
      "execution_count": null,
      "id": "98b9e173",
      "metadata": {
        "id": "98b9e173",
        "outputId": "b40a257c-a8a9-4825-caeb-a705aed40f91"
      },
      "outputs": [
        {
          "data": {
            "text/plain": [
              "array([-0.54402111,  0.91294525, -0.98803162,  0.74511316, -0.26237485])"
            ]
          },
          "execution_count": 67,
          "metadata": {},
          "output_type": "execute_result"
        }
      ],
      "source": [
        "np.sin(a)"
      ]
    },
    {
      "cell_type": "markdown",
      "id": "1e2f2c82",
      "metadata": {
        "id": "1e2f2c82"
      },
      "source": [
        "# Linspace() ==> This function returns value between a given range and with a same gap between consicutive elements ."
      ]
    },
    {
      "cell_type": "code",
      "execution_count": null,
      "id": "a95c0c25",
      "metadata": {
        "id": "a95c0c25",
        "outputId": "6f7ae5e4-bb5d-41d1-ff73-bf0eb6c4f30c"
      },
      "outputs": [
        {
          "data": {
            "text/plain": [
              "array([1.  , 1.25, 1.5 , 1.75, 2.  ])"
            ]
          },
          "execution_count": 68,
          "metadata": {},
          "output_type": "execute_result"
        }
      ],
      "source": [
        "import numpy as np\n",
        "\n",
        "a = np.linspace(1,2,5)\n",
        "a"
      ]
    },
    {
      "cell_type": "code",
      "execution_count": null,
      "id": "242f88d9",
      "metadata": {
        "id": "242f88d9",
        "outputId": "6495266d-9a41-4672-a29f-bd3f818c25ff"
      },
      "outputs": [
        {
          "data": {
            "text/plain": [
              "array([[16, 11, 13],\n",
              "       [17, 13, 16],\n",
              "       [ 3, 16, 11]])"
            ]
          },
          "execution_count": 69,
          "metadata": {},
          "output_type": "execute_result"
        }
      ],
      "source": [
        "import numpy as np\n",
        "\n",
        "np.random.seed(122)\n",
        "a = np.random.randint(1,21,9).reshape(3,3)\n",
        "a"
      ]
    },
    {
      "cell_type": "code",
      "execution_count": null,
      "id": "5f20ead6",
      "metadata": {
        "id": "5f20ead6",
        "outputId": "e347c5f1-4aa9-4960-87c3-e589b46f3f03"
      },
      "outputs": [
        {
          "data": {
            "text/plain": [
              "116"
            ]
          },
          "execution_count": 70,
          "metadata": {},
          "output_type": "execute_result"
        }
      ],
      "source": [
        "np.sum(a)"
      ]
    },
    {
      "cell_type": "code",
      "execution_count": null,
      "id": "d3d1cbc1",
      "metadata": {
        "id": "d3d1cbc1",
        "outputId": "68589f21-9e76-4af3-9c89-fe6345995ed7"
      },
      "outputs": [
        {
          "data": {
            "text/plain": [
              "array([40, 46, 30])"
            ]
          },
          "execution_count": 71,
          "metadata": {},
          "output_type": "execute_result"
        }
      ],
      "source": [
        "np.sum(a , axis = 1)"
      ]
    },
    {
      "cell_type": "code",
      "execution_count": null,
      "id": "08395d29",
      "metadata": {
        "id": "08395d29",
        "outputId": "8897fc44-71bc-4a16-fb5e-7d9432880f9e"
      },
      "outputs": [
        {
          "data": {
            "text/plain": [
              "3"
            ]
          },
          "execution_count": 72,
          "metadata": {},
          "output_type": "execute_result"
        }
      ],
      "source": [
        "np.min(a)"
      ]
    },
    {
      "cell_type": "code",
      "execution_count": null,
      "id": "e0f958ff",
      "metadata": {
        "id": "e0f958ff",
        "outputId": "8e5249b3-d658-43a8-de3d-25916c62439e"
      },
      "outputs": [
        {
          "data": {
            "text/plain": [
              "17"
            ]
          },
          "execution_count": 73,
          "metadata": {},
          "output_type": "execute_result"
        }
      ],
      "source": [
        "np.max(a)"
      ]
    },
    {
      "cell_type": "code",
      "execution_count": null,
      "id": "17127bd1",
      "metadata": {
        "id": "17127bd1",
        "outputId": "9efdf151-3df5-4fdb-8e8f-b0ae23b48ce7"
      },
      "outputs": [
        {
          "data": {
            "text/plain": [
              "array([ 16,  27,  40,  57,  70,  86,  89, 105, 116], dtype=int32)"
            ]
          },
          "execution_count": 74,
          "metadata": {},
          "output_type": "execute_result"
        }
      ],
      "source": [
        "np.cumsum(a)"
      ]
    },
    {
      "cell_type": "code",
      "execution_count": null,
      "id": "8399e096",
      "metadata": {
        "id": "8399e096",
        "outputId": "75e6f281-14af-4a41-bd91-81778fe4f945"
      },
      "outputs": [
        {
          "data": {
            "text/plain": [
              "array([[16, 11, 13],\n",
              "       [17, 13, 16],\n",
              "       [ 3, 16, 11]])"
            ]
          },
          "execution_count": 75,
          "metadata": {},
          "output_type": "execute_result"
        }
      ],
      "source": [
        "a"
      ]
    },
    {
      "cell_type": "markdown",
      "id": "549282e8",
      "metadata": {
        "id": "549282e8"
      },
      "source": [
        "# np.unique(arr , return_index = True , return_counts = True)\n",
        "\n",
        "returns 3 array .\n",
        "1 . the array with unique values .\n",
        "2 . the array with respective index value .\n",
        "3 . the array with counting of frequencey ."
      ]
    },
    {
      "cell_type": "code",
      "execution_count": null,
      "id": "dd217890",
      "metadata": {
        "id": "dd217890",
        "outputId": "0f5440f0-8bb1-4431-cbcb-1f89cffb5305"
      },
      "outputs": [
        {
          "data": {
            "text/plain": [
              "(array([10, 20, 30, 40, 50]),\n",
              " array([0, 1, 2, 3, 6], dtype=int64),\n",
              " array([2, 2, 1, 1, 1], dtype=int64))"
            ]
          },
          "execution_count": 78,
          "metadata": {},
          "output_type": "execute_result"
        }
      ],
      "source": [
        "a = np.array([10,20,30,40,10,20,50])\n",
        "np.unique(a , return_index  = True , return_counts = True)\n"
      ]
    },
    {
      "cell_type": "markdown",
      "id": "6299f0b3",
      "metadata": {
        "id": "6299f0b3"
      },
      "source": [
        "# horizontal and vertical stacking"
      ]
    },
    {
      "cell_type": "code",
      "execution_count": null,
      "id": "59a7b2a0",
      "metadata": {
        "id": "59a7b2a0",
        "outputId": "abfcde61-b2fe-4d0a-b6d7-4173a665af3b"
      },
      "outputs": [
        {
          "data": {
            "text/plain": [
              "array([1, 2, 3, 4])"
            ]
          },
          "execution_count": 79,
          "metadata": {},
          "output_type": "execute_result"
        }
      ],
      "source": [
        "a = np.array([1,2,3,4])\n",
        "b = np.array([5,6,7,8])\n",
        "a"
      ]
    },
    {
      "cell_type": "code",
      "execution_count": null,
      "id": "d9e13340",
      "metadata": {
        "id": "d9e13340",
        "outputId": "29d75061-610d-4267-a87f-0a55373186ec"
      },
      "outputs": [
        {
          "data": {
            "text/plain": [
              "array([5, 6, 7, 8])"
            ]
          },
          "execution_count": 80,
          "metadata": {},
          "output_type": "execute_result"
        }
      ],
      "source": [
        "b"
      ]
    },
    {
      "cell_type": "code",
      "execution_count": null,
      "id": "94424649",
      "metadata": {
        "id": "94424649",
        "outputId": "2e00a555-bb79-4d5a-9302-2e6204f9adaa"
      },
      "outputs": [
        {
          "data": {
            "text/plain": [
              "array([1, 2, 3, 4, 5, 6, 7, 8])"
            ]
          },
          "execution_count": 81,
          "metadata": {},
          "output_type": "execute_result"
        }
      ],
      "source": [
        "np.hstack((a,b))"
      ]
    },
    {
      "cell_type": "code",
      "execution_count": null,
      "id": "760722e7",
      "metadata": {
        "id": "760722e7",
        "outputId": "0a8adefe-6bc5-4137-85dc-f77954b63a38"
      },
      "outputs": [
        {
          "data": {
            "text/plain": [
              "array([[1, 2, 3, 4],\n",
              "       [5, 6, 7, 8]])"
            ]
          },
          "execution_count": 82,
          "metadata": {},
          "output_type": "execute_result"
        }
      ],
      "source": [
        "np.vstack((a,b))"
      ]
    },
    {
      "cell_type": "markdown",
      "id": "c85b0057",
      "metadata": {
        "id": "c85b0057"
      },
      "source": [
        "# Q.1 = Write statement to import numpy ?\n",
        "\n",
        "Q.2 = Create an array using numpy ?\n",
        "\n",
        "Q.3 = Create an array of 10 random integers ?\n",
        "\n",
        "Q.4 = Create an array of elements from  10-20?\n",
        "\n",
        "Q.5 = Create an array which contains value 5 , 10 times ?\n",
        "\n",
        "Q.6 = Create a one dimensional array and convert that into 3*3 matrix ?\n",
        "\n",
        "Q.7 = Create a 2D array of size 3*3 but all the elements should be between 0 to 1 ?\n",
        "\n",
        "Q.8 = Concatenate 2D array horizontally and vertically ?"
      ]
    },
    {
      "cell_type": "code",
      "execution_count": null,
      "id": "c5daa8e1",
      "metadata": {
        "id": "c5daa8e1"
      },
      "outputs": [],
      "source": []
    }
  ],
  "metadata": {
    "kernelspec": {
      "display_name": "Python 3 (ipykernel)",
      "language": "python",
      "name": "python3"
    },
    "language_info": {
      "codemirror_mode": {
        "name": "ipython",
        "version": 3
      },
      "file_extension": ".py",
      "mimetype": "text/x-python",
      "name": "python",
      "nbconvert_exporter": "python",
      "pygments_lexer": "ipython3",
      "version": "3.9.12"
    },
    "colab": {
      "provenance": []
    }
  },
  "nbformat": 4,
  "nbformat_minor": 5
}