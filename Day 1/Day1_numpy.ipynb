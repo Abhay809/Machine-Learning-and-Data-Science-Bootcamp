{
  "nbformat": 4,
  "nbformat_minor": 0,
  "metadata": {
    "colab": {
      "provenance": []
    },
    "kernelspec": {
      "name": "python3",
      "display_name": "Python 3"
    },
    "language_info": {
      "name": "python"
    }
  },
  "cells": [
    {
      "cell_type": "code",
      "execution_count": 1,
      "metadata": {
        "id": "Cr3Nu5iqzVQL"
      },
      "outputs": [],
      "source": [
        "import numpy as np"
      ]
    },
    {
      "cell_type": "code",
      "source": [
        "a = [1,45,90]\n",
        "b = np.array(a)\n",
        "b"
      ],
      "metadata": {
        "colab": {
          "base_uri": "https://localhost:8080/"
        },
        "id": "-efh0hulzbY9",
        "outputId": "db2e6404-989f-4bd9-e3b8-7d4f48e97094"
      },
      "execution_count": 2,
      "outputs": [
        {
          "output_type": "execute_result",
          "data": {
            "text/plain": [
              "array([ 1, 45, 90])"
            ]
          },
          "metadata": {},
          "execution_count": 2
        }
      ]
    },
    {
      "cell_type": "code",
      "source": [
        "print(\"total dimension:\", b.ndim)\n",
        "print(\"shape of the array\", b.shape)\n",
        "print(\"total elements\",b.size)"
      ],
      "metadata": {
        "colab": {
          "base_uri": "https://localhost:8080/"
        },
        "id": "Hr7tCfOezgKr",
        "outputId": "f3f43d64-ec88-47ae-b4b1-fa4e2b249899"
      },
      "execution_count": 3,
      "outputs": [
        {
          "output_type": "stream",
          "name": "stdout",
          "text": [
            "total dimension: 1\n",
            "shape of the array (3,)\n",
            "total elements 3\n"
          ]
        }
      ]
    },
    {
      "cell_type": "code",
      "source": [
        " # it will create an array in which all numbers are zero\n",
        " a = np.zeros(5)\n",
        " a"
      ],
      "metadata": {
        "colab": {
          "base_uri": "https://localhost:8080/"
        },
        "id": "-jnWoW_L0bhB",
        "outputId": "0af4af24-6e85-4e8e-8c7f-8896de2c7113"
      },
      "execution_count": 4,
      "outputs": [
        {
          "output_type": "execute_result",
          "data": {
            "text/plain": [
              "array([0., 0., 0., 0., 0.])"
            ]
          },
          "metadata": {},
          "execution_count": 4
        }
      ]
    },
    {
      "cell_type": "code",
      "source": [
        "b = np.zeros((2,3))\n",
        "b\n"
      ],
      "metadata": {
        "colab": {
          "base_uri": "https://localhost:8080/"
        },
        "id": "3rFVuwnN1ylu",
        "outputId": "0a520755-01f3-47df-abad-88cfc96c46e7"
      },
      "execution_count": 5,
      "outputs": [
        {
          "output_type": "execute_result",
          "data": {
            "text/plain": [
              "array([[0., 0., 0.],\n",
              "       [0., 0., 0.]])"
            ]
          },
          "metadata": {},
          "execution_count": 5
        }
      ]
    },
    {
      "cell_type": "code",
      "source": [
        "# ones  function ===> it will create an array either in dimentional or two dimentional\n",
        "a = np.ones(5)\n",
        "a"
      ],
      "metadata": {
        "colab": {
          "base_uri": "https://localhost:8080/"
        },
        "id": "Eq307rwu2LXJ",
        "outputId": "7de06776-61cb-4dc7-c9ba-133847695575"
      },
      "execution_count": 6,
      "outputs": [
        {
          "output_type": "execute_result",
          "data": {
            "text/plain": [
              "array([1., 1., 1., 1., 1.])"
            ]
          },
          "metadata": {},
          "execution_count": 6
        }
      ]
    },
    {
      "cell_type": "code",
      "source": [
        "b = np.ones((2,3))\n",
        "b"
      ],
      "metadata": {
        "colab": {
          "base_uri": "https://localhost:8080/"
        },
        "id": "LZhFNZuc2imw",
        "outputId": "1fc7b6ff-31e1-4d1e-c357-55f5269eb527"
      },
      "execution_count": 8,
      "outputs": [
        {
          "output_type": "execute_result",
          "data": {
            "text/plain": [
              "array([[1., 1., 1.],\n",
              "       [1., 1., 1.]])"
            ]
          },
          "metadata": {},
          "execution_count": 8
        }
      ]
    },
    {
      "cell_type": "code",
      "source": [
        "# Eye method - all digonal element will be one\n",
        "a = np.eye(3)\n",
        "a"
      ],
      "metadata": {
        "colab": {
          "base_uri": "https://localhost:8080/"
        },
        "id": "F01aLvPt2mQB",
        "outputId": "98af8425-3f70-4375-81ba-c972af8b7e82"
      },
      "execution_count": 9,
      "outputs": [
        {
          "output_type": "execute_result",
          "data": {
            "text/plain": [
              "array([[1., 0., 0.],\n",
              "       [0., 1., 0.],\n",
              "       [0., 0., 1.]])"
            ]
          },
          "metadata": {},
          "execution_count": 9
        }
      ]
    },
    {
      "cell_type": "code",
      "source": [
        "# diagonal function\n",
        "# syntax - diag\n",
        "a = np.diag([1,4,8,9])\n",
        "a"
      ],
      "metadata": {
        "colab": {
          "base_uri": "https://localhost:8080/"
        },
        "id": "il9yYyhL214A",
        "outputId": "93756771-823d-4ac6-af11-92c90e181d5a"
      },
      "execution_count": 10,
      "outputs": [
        {
          "output_type": "execute_result",
          "data": {
            "text/plain": [
              "array([[1, 0, 0, 0],\n",
              "       [0, 4, 0, 0],\n",
              "       [0, 0, 8, 0],\n",
              "       [0, 0, 0, 9]])"
            ]
          },
          "metadata": {},
          "execution_count": 10
        }
      ]
    },
    {
      "cell_type": "code",
      "source": [
        "# random integer function\n",
        "# randint(min_value,max_value_total_number)\n",
        "a = np.random.randint(1,20,3)\n",
        "a"
      ],
      "metadata": {
        "colab": {
          "base_uri": "https://localhost:8080/"
        },
        "id": "KUURNSbI3tSV",
        "outputId": "825911e6-9655-4bf6-91d4-6d53e0c96001"
      },
      "execution_count": 14,
      "outputs": [
        {
          "output_type": "execute_result",
          "data": {
            "text/plain": [
              "array([10,  2,  7])"
            ]
          },
          "metadata": {},
          "execution_count": 14
        }
      ]
    },
    {
      "cell_type": "code",
      "source": [
        "# randn() function:- this function is used to generate a random number from -3 to 3\n"
      ],
      "metadata": {
        "id": "7ddS-g6z4XcT"
      },
      "execution_count": 15,
      "outputs": []
    },
    {
      "cell_type": "code",
      "source": [
        "#Reshaping data\n",
        "a = np.random.randint(1,50,12)\n",
        "a"
      ],
      "metadata": {
        "colab": {
          "base_uri": "https://localhost:8080/"
        },
        "id": "ofAxGcFo5dll",
        "outputId": "089ba8cd-083c-40e4-892b-2b98d8ce5041"
      },
      "execution_count": 16,
      "outputs": [
        {
          "output_type": "execute_result",
          "data": {
            "text/plain": [
              "array([36, 15, 34,  1, 14, 35, 18, 35, 11,  2, 49, 43])"
            ]
          },
          "metadata": {},
          "execution_count": 16
        }
      ]
    },
    {
      "cell_type": "code",
      "source": [
        "a.shape"
      ],
      "metadata": {
        "colab": {
          "base_uri": "https://localhost:8080/"
        },
        "id": "fW32FEOa5wz_",
        "outputId": "38990c76-4a48-43af-c6da-d6df815e8fe5"
      },
      "execution_count": 17,
      "outputs": [
        {
          "output_type": "execute_result",
          "data": {
            "text/plain": [
              "(12,)"
            ]
          },
          "metadata": {},
          "execution_count": 17
        }
      ]
    },
    {
      "cell_type": "code",
      "source": [
        "a = a.reshape(2,6)\n",
        "a"
      ],
      "metadata": {
        "colab": {
          "base_uri": "https://localhost:8080/"
        },
        "id": "bckEUAxO51UI",
        "outputId": "8c98d51a-d3d3-44e6-e6fc-2da188c167b5"
      },
      "execution_count": 19,
      "outputs": [
        {
          "output_type": "execute_result",
          "data": {
            "text/plain": [
              "array([[36, 15, 34,  1, 14, 35],\n",
              "       [18, 35, 11,  2, 49, 43]])"
            ]
          },
          "metadata": {},
          "execution_count": 19
        }
      ]
    },
    {
      "cell_type": "code",
      "source": [
        "a = a.reshape(6,2)\n",
        "a"
      ],
      "metadata": {
        "colab": {
          "base_uri": "https://localhost:8080/"
        },
        "id": "kiScVGvJ6AN7",
        "outputId": "8722e423-7b69-4d93-98d7-81632a1f42ed"
      },
      "execution_count": 20,
      "outputs": [
        {
          "output_type": "execute_result",
          "data": {
            "text/plain": [
              "array([[36, 15],\n",
              "       [34,  1],\n",
              "       [14, 35],\n",
              "       [18, 35],\n",
              "       [11,  2],\n",
              "       [49, 43]])"
            ]
          },
          "metadata": {},
          "execution_count": 20
        }
      ]
    },
    {
      "cell_type": "markdown",
      "source": [
        "**Principal of -1**"
      ],
      "metadata": {
        "id": "fe8HoFJ36ggp"
      }
    },
    {
      "cell_type": "code",
      "source": [
        "a = a.reshape(-1,4)\n",
        "a"
      ],
      "metadata": {
        "colab": {
          "base_uri": "https://localhost:8080/"
        },
        "id": "JOSqzyWQ6oqp",
        "outputId": "054e257a-88a4-4d30-ee76-fdfcf8ac6e87"
      },
      "execution_count": 21,
      "outputs": [
        {
          "output_type": "execute_result",
          "data": {
            "text/plain": [
              "array([[36, 15, 34,  1],\n",
              "       [14, 35, 18, 35],\n",
              "       [11,  2, 49, 43]])"
            ]
          },
          "metadata": {},
          "execution_count": 21
        }
      ]
    },
    {
      "cell_type": "markdown",
      "source": [
        "**Seed Function**"
      ],
      "metadata": {
        "id": "isT9fCcD7dle"
      }
    },
    {
      "cell_type": "code",
      "source": [
        "np.random.seed(5)\n",
        "a = np.random.randint(1,100,10)\n",
        "a"
      ],
      "metadata": {
        "colab": {
          "base_uri": "https://localhost:8080/"
        },
        "id": "HNMxTTvK7lN3",
        "outputId": "0b592b58-a929-47c6-a858-f600e2d0b403"
      },
      "execution_count": 23,
      "outputs": [
        {
          "output_type": "execute_result",
          "data": {
            "text/plain": [
              "array([79, 62, 17, 74,  9, 63, 28, 31, 81,  8])"
            ]
          },
          "metadata": {},
          "execution_count": 23
        }
      ]
    },
    {
      "cell_type": "markdown",
      "source": [
        "**View as copy**"
      ],
      "metadata": {
        "id": "BVZpFv929Rb_"
      }
    },
    {
      "cell_type": "code",
      "source": [
        "a = np.array([10,20,30,40,50,60,70,80])\n",
        "b = a[3:6]\n",
        "b"
      ],
      "metadata": {
        "colab": {
          "base_uri": "https://localhost:8080/"
        },
        "id": "rbQct3Ra9VUL",
        "outputId": "2f109d46-fc19-4009-d0f3-86d233d761c5"
      },
      "execution_count": 24,
      "outputs": [
        {
          "output_type": "execute_result",
          "data": {
            "text/plain": [
              "array([40, 50, 60])"
            ]
          },
          "metadata": {},
          "execution_count": 24
        }
      ]
    },
    {
      "cell_type": "code",
      "source": [
        "a = np.array([10,20,30,40,50,60,70,80])\n",
        "b = a[3:6].copy()\n",
        "b[:] = 0\n",
        "b\n"
      ],
      "metadata": {
        "colab": {
          "base_uri": "https://localhost:8080/"
        },
        "id": "wpqZs1jm7xDF",
        "outputId": "ac760da6-6621-4b85-d942-fa77a08a7d5e"
      },
      "execution_count": 29,
      "outputs": [
        {
          "output_type": "execute_result",
          "data": {
            "text/plain": [
              "array([0, 0, 0])"
            ]
          },
          "metadata": {},
          "execution_count": 29
        }
      ]
    },
    {
      "cell_type": "markdown",
      "source": [
        "**Conditional Selection**"
      ],
      "metadata": {
        "id": "kDKu4YFR-gWg"
      }
    },
    {
      "cell_type": "code",
      "source": [
        "a = np.arange(1,10)\n",
        "a"
      ],
      "metadata": {
        "colab": {
          "base_uri": "https://localhost:8080/"
        },
        "id": "JE6nWSWR-qwM",
        "outputId": "2453c9e4-c6b9-4f5c-819d-4b1ff92c9641"
      },
      "execution_count": 30,
      "outputs": [
        {
          "output_type": "execute_result",
          "data": {
            "text/plain": [
              "array([1, 2, 3, 4, 5, 6, 7, 8, 9])"
            ]
          },
          "metadata": {},
          "execution_count": 30
        }
      ]
    },
    {
      "cell_type": "code",
      "source": [
        "a>7\n"
      ],
      "metadata": {
        "colab": {
          "base_uri": "https://localhost:8080/"
        },
        "id": "eJyG-6FK_DLe",
        "outputId": "40322fc3-2f7c-4036-f3b0-2e3e2606ed79"
      },
      "execution_count": 31,
      "outputs": [
        {
          "output_type": "execute_result",
          "data": {
            "text/plain": [
              "array([False, False, False, False, False, False, False,  True,  True])"
            ]
          },
          "metadata": {},
          "execution_count": 31
        }
      ]
    },
    {
      "cell_type": "code",
      "source": [
        "b = a>10\n",
        "a[b]"
      ],
      "metadata": {
        "colab": {
          "base_uri": "https://localhost:8080/"
        },
        "id": "J0QjWyKz_FP1",
        "outputId": "3eb8bed2-1e53-49bf-f63b-2ecb74aac7eb"
      },
      "execution_count": 32,
      "outputs": [
        {
          "output_type": "execute_result",
          "data": {
            "text/plain": [
              "array([], dtype=int64)"
            ]
          },
          "metadata": {},
          "execution_count": 32
        }
      ]
    },
    {
      "cell_type": "markdown",
      "source": [
        "**Operation on Array**"
      ],
      "metadata": {
        "id": "tlsKz3-L_sT3"
      }
    },
    {
      "cell_type": "code",
      "source": [
        "a = np.arange(1,5)\n",
        "a*2"
      ],
      "metadata": {
        "id": "32rGPxXW_wFa",
        "outputId": "8bbb9b6f-9c83-44b8-d3bb-972ef4b7d181",
        "colab": {
          "base_uri": "https://localhost:8080/"
        }
      },
      "execution_count": 34,
      "outputs": [
        {
          "output_type": "execute_result",
          "data": {
            "text/plain": [
              "array([2, 4, 6, 8])"
            ]
          },
          "metadata": {},
          "execution_count": 34
        }
      ]
    },
    {
      "cell_type": "code",
      "source": [
        "a+2"
      ],
      "metadata": {
        "id": "5P9wFGYRAIEq",
        "outputId": "980dcefe-cb36-4e72-dee7-91836fed6d47",
        "colab": {
          "base_uri": "https://localhost:8080/"
        }
      },
      "execution_count": 35,
      "outputs": [
        {
          "output_type": "execute_result",
          "data": {
            "text/plain": [
              "array([3, 4, 5, 6])"
            ]
          },
          "metadata": {},
          "execution_count": 35
        }
      ]
    },
    {
      "cell_type": "code",
      "source": [
        "a**2\n"
      ],
      "metadata": {
        "id": "Fbg11pQZALB4",
        "outputId": "d85d5a58-9f81-4b96-fbf1-cbfa6e6d48a7",
        "colab": {
          "base_uri": "https://localhost:8080/"
        }
      },
      "execution_count": 36,
      "outputs": [
        {
          "output_type": "execute_result",
          "data": {
            "text/plain": [
              "array([ 1,  4,  9, 16])"
            ]
          },
          "metadata": {},
          "execution_count": 36
        }
      ]
    },
    {
      "cell_type": "code",
      "source": [
        "a = np.array([1,2,3,4]).reshape(2,2)\n",
        "a"
      ],
      "metadata": {
        "id": "FcQqCyi8AOjp",
        "outputId": "d9cedf31-e022-4e08-fbd8-14e480b4dbfe",
        "colab": {
          "base_uri": "https://localhost:8080/"
        }
      },
      "execution_count": 37,
      "outputs": [
        {
          "output_type": "execute_result",
          "data": {
            "text/plain": [
              "array([[1, 2],\n",
              "       [3, 4]])"
            ]
          },
          "metadata": {},
          "execution_count": 37
        }
      ]
    },
    {
      "cell_type": "code",
      "source": [
        "b = np.array([5,6,7,8]).reshape(2,2)\n",
        "b"
      ],
      "metadata": {
        "id": "8xQz7mfWA8ec",
        "outputId": "ff929d68-4914-4a51-c0b7-a24740afead8",
        "colab": {
          "base_uri": "https://localhost:8080/"
        }
      },
      "execution_count": 38,
      "outputs": [
        {
          "output_type": "execute_result",
          "data": {
            "text/plain": [
              "array([[5, 6],\n",
              "       [7, 8]])"
            ]
          },
          "metadata": {},
          "execution_count": 38
        }
      ]
    },
    {
      "cell_type": "code",
      "source": [
        "a+b"
      ],
      "metadata": {
        "id": "7I9s_OzdBFt7",
        "outputId": "59af1d34-3381-480c-c7ea-cb2ded0774a7",
        "colab": {
          "base_uri": "https://localhost:8080/"
        }
      },
      "execution_count": 39,
      "outputs": [
        {
          "output_type": "execute_result",
          "data": {
            "text/plain": [
              "array([[ 6,  8],\n",
              "       [10, 12]])"
            ]
          },
          "metadata": {},
          "execution_count": 39
        }
      ]
    },
    {
      "cell_type": "code",
      "source": [],
      "metadata": {
        "id": "Py4fV7cHBobd"
      },
      "execution_count": null,
      "outputs": []
    },
    {
      "cell_type": "code",
      "source": [
        "b-a\n"
      ],
      "metadata": {
        "id": "Dss3wDDSBIXv",
        "outputId": "952b4e65-cc3d-4e7f-a954-689c6a05b555",
        "colab": {
          "base_uri": "https://localhost:8080/"
        }
      },
      "execution_count": 40,
      "outputs": [
        {
          "output_type": "execute_result",
          "data": {
            "text/plain": [
              "array([[4, 4],\n",
              "       [4, 4]])"
            ]
          },
          "metadata": {},
          "execution_count": 40
        }
      ]
    },
    {
      "cell_type": "code",
      "source": [
        "b/a"
      ],
      "metadata": {
        "id": "yh24i0uGBPi7",
        "outputId": "1fbd4511-6162-412b-9f8c-d38c147cf6dc",
        "colab": {
          "base_uri": "https://localhost:8080/"
        }
      },
      "execution_count": 41,
      "outputs": [
        {
          "output_type": "execute_result",
          "data": {
            "text/plain": [
              "array([[5.        , 3.        ],\n",
              "       [2.33333333, 2.        ]])"
            ]
          },
          "metadata": {},
          "execution_count": 41
        }
      ]
    },
    {
      "cell_type": "code",
      "source": [
        "a.dot(b)"
      ],
      "metadata": {
        "id": "YO3Z1GOrBQjq",
        "outputId": "c96b850a-82a6-457f-c2d7-84409c6e7d1b",
        "colab": {
          "base_uri": "https://localhost:8080/"
        }
      },
      "execution_count": 42,
      "outputs": [
        {
          "output_type": "execute_result",
          "data": {
            "text/plain": [
              "array([[19, 22],\n",
              "       [43, 50]])"
            ]
          },
          "metadata": {},
          "execution_count": 42
        }
      ]
    },
    {
      "cell_type": "code",
      "source": [
        "a  = np.array([10,20,30,40,50,60])\n",
        "np.min(a)"
      ],
      "metadata": {
        "id": "L9_P1BfrBxhN",
        "outputId": "52ba8b36-e920-42ae-92a3-b13c24199c5b",
        "colab": {
          "base_uri": "https://localhost:8080/"
        }
      },
      "execution_count": 43,
      "outputs": [
        {
          "output_type": "execute_result",
          "data": {
            "text/plain": [
              "10"
            ]
          },
          "metadata": {},
          "execution_count": 43
        }
      ]
    },
    {
      "cell_type": "code",
      "source": [
        "np.max(a)"
      ],
      "metadata": {
        "id": "t7n2FnEIC6Oh",
        "outputId": "d569fa54-5f6a-40e6-a6ab-b4d19dfa7777",
        "colab": {
          "base_uri": "https://localhost:8080/"
        }
      },
      "execution_count": 44,
      "outputs": [
        {
          "output_type": "execute_result",
          "data": {
            "text/plain": [
              "60"
            ]
          },
          "metadata": {},
          "execution_count": 44
        }
      ]
    },
    {
      "cell_type": "code",
      "source": [
        "np.argmin(a)"
      ],
      "metadata": {
        "id": "tpk1ZmYmC7yi",
        "outputId": "ce075050-1660-4ee8-a68d-b6a042729463",
        "colab": {
          "base_uri": "https://localhost:8080/"
        }
      },
      "execution_count": 45,
      "outputs": [
        {
          "output_type": "execute_result",
          "data": {
            "text/plain": [
              "0"
            ]
          },
          "metadata": {},
          "execution_count": 45
        }
      ]
    },
    {
      "cell_type": "code",
      "source": [
        "np.argmax(a)"
      ],
      "metadata": {
        "id": "6YSOw7P7DCIR",
        "outputId": "79f28709-8edf-4a05-9f89-399f93b3d080",
        "colab": {
          "base_uri": "https://localhost:8080/"
        }
      },
      "execution_count": 46,
      "outputs": [
        {
          "output_type": "execute_result",
          "data": {
            "text/plain": [
              "5"
            ]
          },
          "metadata": {},
          "execution_count": 46
        }
      ]
    },
    {
      "cell_type": "code",
      "source": [
        "np.sqrt(a)\n"
      ],
      "metadata": {
        "id": "7Quab03DDEIP",
        "outputId": "c8499e55-5f94-4192-cf15-446ac4642fb9",
        "colab": {
          "base_uri": "https://localhost:8080/"
        }
      },
      "execution_count": 47,
      "outputs": [
        {
          "output_type": "execute_result",
          "data": {
            "text/plain": [
              "array([3.16227766, 4.47213595, 5.47722558, 6.32455532, 7.07106781,\n",
              "       7.74596669])"
            ]
          },
          "metadata": {},
          "execution_count": 47
        }
      ]
    },
    {
      "cell_type": "code",
      "source": [
        "np.sin(a)"
      ],
      "metadata": {
        "id": "d6A3uembDLVY",
        "outputId": "f325e67d-ced2-48df-c197-0a16a3e8b65e",
        "colab": {
          "base_uri": "https://localhost:8080/"
        }
      },
      "execution_count": 48,
      "outputs": [
        {
          "output_type": "execute_result",
          "data": {
            "text/plain": [
              "array([-0.54402111,  0.91294525, -0.98803162,  0.74511316, -0.26237485,\n",
              "       -0.30481062])"
            ]
          },
          "metadata": {},
          "execution_count": 48
        }
      ]
    },
    {
      "cell_type": "markdown",
      "source": [
        "**Linspace() Function**"
      ],
      "metadata": {
        "id": "rP7WZ492Dkyq"
      }
    },
    {
      "cell_type": "code",
      "source": [
        "a = np.linspace(1,2,5)\n",
        "a"
      ],
      "metadata": {
        "id": "RLv40-oMDp2A",
        "outputId": "19c95c56-0018-4baf-8f0d-4e23084dede7",
        "colab": {
          "base_uri": "https://localhost:8080/"
        }
      },
      "execution_count": 49,
      "outputs": [
        {
          "output_type": "execute_result",
          "data": {
            "text/plain": [
              "array([1.  , 1.25, 1.5 , 1.75, 2.  ])"
            ]
          },
          "metadata": {},
          "execution_count": 49
        }
      ]
    },
    {
      "cell_type": "code",
      "source": [
        "np.sum\n"
      ],
      "metadata": {
        "id": "48it4RTFD0c9",
        "outputId": "94fb61eb-6908-439e-8624-40310a785ece",
        "colab": {
          "base_uri": "https://localhost:8080/"
        }
      },
      "execution_count": 50,
      "outputs": [
        {
          "output_type": "execute_result",
          "data": {
            "text/plain": [
              "<function sum at 0x78cf0633c6b0>"
            ]
          },
          "metadata": {},
          "execution_count": 50
        }
      ]
    },
    {
      "cell_type": "code",
      "source": [
        "#np.sum\n",
        "#np.sum(a, axis = 1)"
      ],
      "metadata": {
        "id": "pbx8u6S7F8ry"
      },
      "execution_count": 51,
      "outputs": []
    },
    {
      "cell_type": "markdown",
      "source": [
        "**np.unique(arr,return_index = true, return counts = true)**"
      ],
      "metadata": {
        "id": "zm0YKar8GKEw"
      }
    },
    {
      "cell_type": "code",
      "source": [
        "a = np.array([10,20,30,40,10,20,50])\n",
        "np.unique(a, return_index = True, return_counts = True)"
      ],
      "metadata": {
        "id": "sjxq6hVVGJSO",
        "outputId": "b5774df4-7945-49dd-849d-2efdcc129c60",
        "colab": {
          "base_uri": "https://localhost:8080/"
        }
      },
      "execution_count": 52,
      "outputs": [
        {
          "output_type": "execute_result",
          "data": {
            "text/plain": [
              "(array([10, 20, 30, 40, 50]), array([0, 1, 2, 3, 6]), array([2, 2, 1, 1, 1]))"
            ]
          },
          "metadata": {},
          "execution_count": 52
        }
      ]
    },
    {
      "cell_type": "markdown",
      "source": [
        "**Horizontal and Vertical Stacking**"
      ],
      "metadata": {
        "id": "HDK-y745Hr1D"
      }
    },
    {
      "cell_type": "code",
      "source": [
        "a = np.array([1,2,3,4])\n",
        "b = np.array([5,6,7,8])"
      ],
      "metadata": {
        "id": "qQ4vyJKoH0pI"
      },
      "execution_count": 53,
      "outputs": []
    },
    {
      "cell_type": "code",
      "source": [
        "np.hstack((a,b))"
      ],
      "metadata": {
        "id": "s7vGBSnWIJUp",
        "outputId": "15230c2c-258f-4165-c9e6-b82ed8b27aed",
        "colab": {
          "base_uri": "https://localhost:8080/"
        }
      },
      "execution_count": 55,
      "outputs": [
        {
          "output_type": "execute_result",
          "data": {
            "text/plain": [
              "array([1, 2, 3, 4, 5, 6, 7, 8])"
            ]
          },
          "metadata": {},
          "execution_count": 55
        }
      ]
    },
    {
      "cell_type": "code",
      "source": [
        "np.vstack((a,b))"
      ],
      "metadata": {
        "id": "yfsk0jLAIMSa",
        "outputId": "eb4e4ca6-fc1b-4efc-c952-fb5747e738d3",
        "colab": {
          "base_uri": "https://localhost:8080/"
        }
      },
      "execution_count": 56,
      "outputs": [
        {
          "output_type": "execute_result",
          "data": {
            "text/plain": [
              "array([[1, 2, 3, 4],\n",
              "       [5, 6, 7, 8]])"
            ]
          },
          "metadata": {},
          "execution_count": 56
        }
      ]
    },
    {
      "cell_type": "code",
      "source": [],
      "metadata": {
        "id": "5YwNV5nPIc0u"
      },
      "execution_count": null,
      "outputs": []
    },
    {
      "cell_type": "markdown",
      "source": [],
      "metadata": {
        "id": "VBhy54HmIhlF"
      }
    }
  ]
}