{
 "cells": [
  {
   "cell_type": "code",
   "execution_count": null,
   "id": "87ada273-56de-4184-a02b-09f45801ea8e",
   "metadata": {},
   "outputs": [],
   "source": [
    "# lambda Function"
   ]
  },
  {
   "cell_type": "code",
   "execution_count": 1,
   "id": "42a949e8-0999-4f55-89ca-a2b5b75ec304",
   "metadata": {},
   "outputs": [
    {
     "name": "stdout",
     "output_type": "stream",
     "text": [
      "hello\n"
     ]
    }
   ],
   "source": [
    "print(\"hello\")"
   ]
  },
  {
   "cell_type": "code",
   "execution_count": 3,
   "id": "dc0f4840-d972-4e6a-a73c-f95fe7713a1d",
   "metadata": {},
   "outputs": [
    {
     "name": "stdout",
     "output_type": "stream",
     "text": [
      "ans is =  12\n"
     ]
    }
   ],
   "source": [
    "x = lambda a,b : a*b;\n",
    "print(\"ans is = \", x(3,4))"
   ]
  },
  {
   "cell_type": "code",
   "execution_count": 15,
   "id": "84a4d9c0-23da-459b-9703-75e67fea0b15",
   "metadata": {},
   "outputs": [
    {
     "name": "stdout",
     "output_type": "stream",
     "text": [
      "[18, 34, 67, 50]\n"
     ]
    }
   ],
   "source": [
    "#Filter function\n",
    "\n",
    "ages = [5,12,17,18,34,67,50]\n",
    "def myFunc(x):\n",
    "    if(x>=18):\n",
    "        return True\n",
    "    else:\n",
    "        return False\n",
    "\n",
    "kid = list(filter(myFunc, ages))\n",
    "print(kid)"
   ]
  },
  {
   "cell_type": "code",
   "execution_count": 29,
   "id": "1f6fe746-3e12-4717-a089-9392d4352f5e",
   "metadata": {},
   "outputs": [
    {
     "name": "stdout",
     "output_type": "stream",
     "text": [
      "[3, 45, 89]\n",
      "90\n"
     ]
    }
   ],
   "source": [
    "#Map Function() ===> It changes in overall data\n",
    "# we use mapping\n",
    "\n",
    "a = [\"3\", \"45\", \"89\"]\n",
    "\n",
    "# method - 1\n",
    "# print(a)\n",
    "# for i in range(list(a)):\n",
    "#     a[i] = int(a[i])\n",
    "#     print(a)\n",
    "#     a[2] = a[2]+1\n",
    "#      print(a[i])\n",
    "\n",
    "#method 2 by using map function\n",
    "b = list(map(int,a))\n",
    "print(b)\n",
    "b[2]=b[2]+1\n",
    "print(b[2])"
   ]
  },
  {
   "cell_type": "code",
   "execution_count": 31,
   "id": "3c9d22c8-1539-4022-89d2-2ac143dc7b76",
   "metadata": {},
   "outputs": [
    {
     "data": {
      "text/plain": [
       "str"
      ]
     },
     "execution_count": 31,
     "metadata": {},
     "output_type": "execute_result"
    }
   ],
   "source": [
    "# String in Python\n",
    "a = \"abhay\"\n",
    "type(a)"
   ]
  },
  {
   "cell_type": "code",
   "execution_count": 33,
   "id": "1da50207-b18c-45c6-8b26-b33fb8d37280",
   "metadata": {},
   "outputs": [
    {
     "name": "stdout",
     "output_type": "stream",
     "text": [
      "b\n",
      "h\n",
      "a\n",
      "y\n",
      "a\n",
      "h\n"
     ]
    }
   ],
   "source": [
    "print(a[1])  #forward indexing\n",
    "print(a[2])\n",
    "print(a[3])\n",
    "print(a[-1])   # backward indexing\n",
    "print(a[-2])\n",
    "print(a[-3])"
   ]
  },
  {
   "cell_type": "code",
   "execution_count": 39,
   "id": "a7a2812c-e12c-4c67-a4dd-180af5e71e25",
   "metadata": {},
   "outputs": [
    {
     "name": "stdout",
     "output_type": "stream",
     "text": [
      "Good \n",
      "odm\n",
      "Good morning\n",
      "Good mornin\n"
     ]
    }
   ],
   "source": [
    "#Slicing in python\n",
    "a = \"Good morning\"\n",
    "print(a[0:5])\n",
    "print(a[1:7:2])\n",
    "print(a[0:])\n",
    "print(a[:-1])\n"
   ]
  },
  {
   "cell_type": "code",
   "execution_count": 47,
   "id": "a897fe70-6af2-45c4-b77d-cc56b0606b9f",
   "metadata": {},
   "outputs": [
    {
     "name": "stdout",
     "output_type": "stream",
     "text": [
      "yahba\n",
      "not palindrome\n"
     ]
    }
   ],
   "source": [
    "# String function\n",
    "# interview Question\n",
    "\n",
    "# 1. write a program to find reverse of a string\n",
    "a = \"abhay\"\n",
    "print(a[-1::-1])\n",
    "\n",
    "# 2. write a program to check if a string is palindrome or not\n",
    "a = \"yahba\"\n",
    "b = a[-1::-1]\n",
    "if(a==b):\n",
    "    print(\"palindrome string\")\n",
    "else:\n",
    "    print(\"not palindrome\")"
   ]
  },
  {
   "cell_type": "code",
   "execution_count": 49,
   "id": "faeb49f8-07ed-49d9-99e7-2f5a3190b567",
   "metadata": {},
   "outputs": [
    {
     "name": "stdout",
     "output_type": "stream",
     "text": [
      "45\n",
      "['abhay', 45, 'shubham', 98.98]\n",
      "['abhay', 45, 'shubham', 98.98]\n",
      "['abhay', 45, 'shubham']\n",
      "[45, 'shubham']\n"
     ]
    }
   ],
   "source": [
    "# example\n",
    "a = [\"abhay\",45,\"shubham\",98.98]\n",
    "print(a[1])\n",
    "print(a[0:])\n",
    "print(a[:])\n",
    "print(a[:3])\n",
    "print(a[1:3])"
   ]
  },
  {
   "cell_type": "code",
   "execution_count": 51,
   "id": "fc351373-8d2c-4e23-8ab1-86ee0dda4555",
   "metadata": {},
   "outputs": [
    {
     "name": "stdout",
     "output_type": "stream",
     "text": [
      "['abhay', 45, 'shubham', 98.98]\n",
      "45\n"
     ]
    }
   ],
   "source": [
    "# multiple type\n",
    "a = [\"abhay\",45,\"shubham\",98.98]\n",
    "print(a)\n",
    "print(a[1])\n"
   ]
  },
  {
   "cell_type": "code",
   "execution_count": 57,
   "id": "2f2ad54b-f700-42be-85b0-90c4f1a6e35c",
   "metadata": {},
   "outputs": [
    {
     "name": "stdout",
     "output_type": "stream",
     "text": [
      "[45, 'abhay', 89.47, 'mohit']\n",
      "[45, 'abhay', 'rubi', 'mohit']\n",
      "(45, 'abhay', 'rubi', 'mohit')\n"
     ]
    }
   ],
   "source": [
    "# Tuple\n",
    "\n",
    "#example\n",
    "a = (45,'abhay',89.47,'mohit')\n",
    "\n",
    "# q-1 convert this>>\n",
    "# (45,'abhay',89.47,'mohit') ===>  (45,'abhay',\"rubi\",'mohit')\n",
    "#a[2] = \"rubi\"   // not possible directly\n",
    "# print(a)\n",
    "b = list(a)  # convert tuple into list first\n",
    "print(b)\n",
    "b[2] = \"rubi\"\n",
    "print(b)\n",
    "c = tuple(b)\n",
    "print(c)"
   ]
  },
  {
   "cell_type": "code",
   "execution_count": 59,
   "id": "30e30260-7608-42b8-b151-26bfc592a097",
   "metadata": {},
   "outputs": [
    {
     "name": "stdin",
     "output_type": "stream",
     "text": [
      "enter size :  3\n",
      "enter number abhau\n",
      "enter number ajhjd\n",
      "enter number jdf\n"
     ]
    },
    {
     "name": "stdout",
     "output_type": "stream",
     "text": [
      "('abhau', 'ajhjd', 'jdf')\n"
     ]
    }
   ],
   "source": [
    "# task -1  write a user defined tuple program\n",
    "a = []    #take a blank list\n",
    "size = int(input(\"enter size : \"))\n",
    "for i in range(size):\n",
    "    val = input(\"enter number\")  \n",
    "    a.append(val)\n",
    "#print(a)\n",
    "b = tuple(a)\n",
    "print(b)"
   ]
  },
  {
   "cell_type": "code",
   "execution_count": 65,
   "id": "1d56a0d8-61a0-42af-b54f-96a68e43b1d5",
   "metadata": {},
   "outputs": [
    {
     "name": "stdout",
     "output_type": "stream",
     "text": [
      "{'brand': 'kia', 'model': 'celtos', 'year': 2022}\n",
      "2022\n"
     ]
    }
   ],
   "source": [
    "# Dictionary\n",
    "\n",
    "#example\n",
    "a = {\"brand\" : \"kia\", \"model\" : \"celtos\", \"year\" : 2022}\n",
    "print(a)\n",
    "b= a[\"year\"]\n",
    "print(b)"
   ]
  },
  {
   "cell_type": "code",
   "execution_count": 81,
   "id": "45da4aae-7e8b-495f-8f77-c9dc76fbba60",
   "metadata": {},
   "outputs": [
    {
     "name": "stdout",
     "output_type": "stream",
     "text": [
      "brand\n",
      "model\n",
      "year\n"
     ]
    }
   ],
   "source": [
    "# loop through a dictionary\n",
    "a = {\"brand\" : \"kia\", \"model\" : \"celtos\", \"year\" : 2022}\n",
    "# for i in a :   # extract all the keys\n",
    "#     print(i)\n",
    "\n",
    "for i in a.keys():   # extract all the keys\n",
    "    print(i)\n",
    "\n",
    "# for i in a:      # extract all the values\n",
    "#     print(a[i])\n",
    "\n",
    "# for i in a.value():   # extract all the values\n",
    "#     print(i)\n",
    "    "
   ]
  },
  {
   "cell_type": "code",
   "execution_count": 87,
   "id": "9d79e665-3ad6-488a-9b8d-f10fb81aff43",
   "metadata": {},
   "outputs": [
    {
     "name": "stdout",
     "output_type": "stream",
     "text": [
      "<class 'set'>\n",
      "{'good', 'bad'}\n",
      "{'amogn', 'mittal', 'abhay'}\n"
     ]
    }
   ],
   "source": [
    "# sets >>> collection of items which is unordered\n",
    "\n",
    "a = {\"good\",\"bad\", \"good\"}\n",
    "print(type(a))\n",
    "print(a)\n",
    "\n",
    "# typecasting list to set\n",
    "a  = set([\"abhay\",\"amogn\",\"mittal\"])\n",
    "print(a)"
   ]
  },
  {
   "cell_type": "code",
   "execution_count": 89,
   "id": "3675050a-4f42-4d7f-bb04-a807e2dc6300",
   "metadata": {},
   "outputs": [
    {
     "name": "stdout",
     "output_type": "stream",
     "text": [
      "{'rahul', 'amogn', 'mittal', 'abhay'}\n"
     ]
    }
   ],
   "source": [
    "# adding element to the set\n",
    "\n",
    "a  = set({\"abhay\",\"amogn\",\"mittal\"})\n",
    "a.add(\"rahul\")\n",
    "print(a)"
   ]
  },
  {
   "cell_type": "code",
   "execution_count": null,
   "id": "d288df70-3ef0-4823-93b4-cb53ca945737",
   "metadata": {},
   "outputs": [],
   "source": []
  }
 ],
 "metadata": {
  "kernelspec": {
   "display_name": "anaconda-panel-2023.05-py310",
   "language": "python",
   "name": "conda-env-anaconda-panel-2023.05-py310-py"
  },
  "language_info": {
   "codemirror_mode": {
    "name": "ipython",
    "version": 3
   },
   "file_extension": ".py",
   "mimetype": "text/x-python",
   "name": "python",
   "nbconvert_exporter": "python",
   "pygments_lexer": "ipython3",
   "version": "3.11.5"
  }
 },
 "nbformat": 4,
 "nbformat_minor": 5
}
