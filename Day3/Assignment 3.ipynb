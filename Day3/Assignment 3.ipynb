{
  "cells": [
    {
      "cell_type": "code",
      "execution_count": null,
      "metadata": {
        "id": "RhQE7cBWlZC7"
      },
      "outputs": [],
      "source": [
        "what are the main types of machine learning approaches\n",
        "can you explain the difference between supervised,unsupervised,and reinforcement learning?"
      ]
    },
    {
      "cell_type": "markdown",
      "metadata": {
        "id": "1IOhRd40lZ0h"
      },
      "source": [
        "Q1. what is Machine Learning\n",
        "\n",
        "Q2. How does Machine Learning differ from traditional programming?\n",
        "\n",
        "Q3. what are the main types of machine learning approaches\n",
        "can you explain the difference between supervised,unsupervised,and reinforcement learning?\n",
        "\n",
        "Q4. what are some common applications of machine learning in real world scenario\n",
        "\n",
        "Q5. what are the key components of a typical machine learning workflow?\n",
        "\n",
        "Q6. what is the role of data in Machine Learning\n",
        "\n",
        "Q7. what is the significance of feature engineering in Machine Learning\n",
        "\n",
        "Q8. how do you evaluate the performance of a machine learning model\n",
        "\n",
        "Q9. what are some challenges or limitations of machine learning"
      ]
    },
    {
      "cell_type": "markdown",
      "metadata": {
        "id": "h2-0rir9mW51"
      },
      "source": [
        "\n",
        "**Q1. What is Machine Learning?**\n",
        "\n",
        "Machine learning (ML) is a branch of artificial intelligence (AI) that involves the development of algorithms that enable computers to learn from and make predictions or decisions based on data. Instead of being explicitly programmed to perform a task, ML algorithms use statistical techniques to identify patterns and relationships in data, allowing them to improve their performance over time through experience."
      ]
    },
    {
      "cell_type": "markdown",
      "metadata": {
        "id": "-nA4SFWKmdum"
      },
      "source": [
        "**Q2. How does Machine Learning differ from traditional programming?**\n",
        "\n",
        "In traditional programming, a programmer writes explicit instructions (code) to solve a problem. The program follows these instructions to process inputs and produce outputs. In contrast, machine learning involves training a model on data, where the model learns patterns and relationships from the data without being explicitly programmed. The key differences are:\n",
        "\n",
        "Approach: Traditional programming uses explicit rules and logic, while ML uses data to learn.\n",
        "Flexibility: ML models can adapt to new data and improve over time, whereas traditional programs require manual updates for changes.\n",
        "Problem-Solving: ML is suited for complex tasks with many variables and patterns, such as image recognition or natural language processing, which are difficult to handle with traditional programming."
      ]
    },
    {
      "cell_type": "markdown",
      "metadata": {
        "id": "qduGGh6OmtVI"
      },
      "source": []
    },
    {
      "cell_type": "code",
      "execution_count": null,
      "metadata": {
        "id": "abW7oiV0l8dh"
      },
      "outputs": [],
      "source": []
    }
  ],
  "metadata": {
    "colab": {
      "provenance": []
    },
    "kernelspec": {
      "display_name": "Python 3",
      "name": "python3"
    },
    "language_info": {
      "name": "python",
      "version": "3.12.2"
    }
  },
  "nbformat": 4,
  "nbformat_minor": 0
}
