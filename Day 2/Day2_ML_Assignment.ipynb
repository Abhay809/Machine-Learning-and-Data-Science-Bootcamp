{
  "nbformat": 4,
  "nbformat_minor": 0,
  "metadata": {
    "colab": {
      "provenance": []
    },
    "kernelspec": {
      "name": "python3",
      "display_name": "Python 3"
    },
    "language_info": {
      "name": "python"
    }
  },
  "cells": [
    {
      "cell_type": "code",
      "execution_count": null,
      "metadata": {
        "id": "E_gKs1_-QO4S"
      },
      "outputs": [],
      "source": []
    },
    {
      "cell_type": "markdown",
      "source": [
        "**Assignment Day-2**"
      ],
      "metadata": {
        "id": "Y6VHBXKUQQGG"
      }
    },
    {
      "cell_type": "markdown",
      "source": [
        "q1  what is difference between series and data frame?\n",
        "\n",
        "q2  what does value comes in pandas?\n",
        "\n",
        "q3  what are the aggregation funtions and what does group by?\n",
        "\n",
        "q4  what is difference between loc and Iloc method in pandas?\n",
        "\n",
        "q5  how do you handle missing values in pandas?\n",
        "\n",
        "q6  what is \"head\", \"tail\", \"sample\" in pandas?\n",
        "\n",
        "q7  what is difference between describe method and info method in pandas?\n",
        "\n",
        "q8  what is difference between mean and median?\n",
        "\n",
        "q9  what is difference between merge and concatinate in pandas?\n",
        "\n",
        "q10 what is univariate, bivariate and multivariate analysis. explain with example. And what is difference between discrete and continuous data?\n",
        "\n",
        "\n"
      ],
      "metadata": {
        "id": "JEX65sqTQUGQ"
      }
    },
    {
      "cell_type": "code",
      "source": [
        "# q1 difference between series and data frame\n",
        "\n",
        "import pandas as pd\n",
        "s = pd.Series([1, 2, 3, 4, 5])\n",
        "print(s)\n",
        "\n",
        "# data frame\n",
        "data = {'A': [1, 2, 3, 4], 'B': [5, 6, 7, 8]}\n",
        "df = pd.DataFrame(data)\n",
        "print(df)"
      ],
      "metadata": {
        "colab": {
          "base_uri": "https://localhost:8080/"
        },
        "id": "zNJOevPgXw1S",
        "outputId": "1ca78272-eca5-406a-effd-02a7932a1e59"
      },
      "execution_count": 2,
      "outputs": [
        {
          "output_type": "stream",
          "name": "stdout",
          "text": [
            "0    1\n",
            "1    2\n",
            "2    3\n",
            "3    4\n",
            "4    5\n",
            "dtype: int64\n",
            "   A  B\n",
            "0  1  5\n",
            "1  2  6\n",
            "2  3  7\n",
            "3  4  8\n"
          ]
        }
      ]
    },
    {
      "cell_type": "code",
      "source": [
        "# Q2) What does value_counts do in pandas?\n",
        "\n",
        "# The value_counts method returns a Series containing counts of unique values in a Series.\n",
        "\n",
        "s = pd.Series([1, 2, 2, 3, 3, 3, 4])\n",
        "counts = s.value_counts()\n",
        "print(counts)"
      ],
      "metadata": {
        "colab": {
          "base_uri": "https://localhost:8080/"
        },
        "id": "qMrlnReDYHGL",
        "outputId": "64f2d10c-7be6-4f94-f281-28a245f03004"
      },
      "execution_count": 3,
      "outputs": [
        {
          "output_type": "stream",
          "name": "stdout",
          "text": [
            "3    3\n",
            "2    2\n",
            "1    1\n",
            "4    1\n",
            "Name: count, dtype: int64\n"
          ]
        }
      ]
    },
    {
      "cell_type": "code",
      "source": [
        "# Q3) Aggregation Functions and Group-wise Operations in pandas\n",
        "\n",
        "# Aggregation Functions:\n",
        "# These functions compute a single result for a Series or DataFrame.\n",
        "# Examples include sum(), mean(), min(), max(), count(), etc.\n",
        "\n",
        "# Group-wise Operations:\n",
        "# Using groupby() to split the data into groups, perform operations, and combine the results.\n",
        "\n",
        "df = pd.DataFrame({\n",
        "    'A': ['abhay', 'Mittal', 'abhay', 'Mittal'],\n",
        "    'B': [1, 2, 3, 4]\n",
        "})\n",
        "grouped = df.groupby('A').sum()\n",
        "print(grouped)\n"
      ],
      "metadata": {
        "colab": {
          "base_uri": "https://localhost:8080/"
        },
        "id": "FDBR2XFZZE2w",
        "outputId": "c2f9c2e3-8a4f-4908-997c-9d49f5927720"
      },
      "execution_count": 6,
      "outputs": [
        {
          "output_type": "stream",
          "name": "stdout",
          "text": [
            "        B\n",
            "A        \n",
            "Mittal  6\n",
            "abhay   4\n"
          ]
        }
      ]
    },
    {
      "cell_type": "code",
      "source": [
        "# Q4) Difference between loc and iloc in pandas\n",
        "# loc is label-based. You use labels to access rows and columns.\n",
        "# iloc is integer position-based. You use integer indices to access rows and columns.\n",
        "\n",
        "df = pd.DataFrame({'A': [10, 20, 30], 'B': [100, 200, 300]}, index=['x', 'y', 'z'])\n",
        "\n",
        "# Using loc\n",
        "print(df.loc['x'])\n",
        "\n",
        "# Using iloc\n",
        "print(df.iloc[0])\n",
        "\n"
      ],
      "metadata": {
        "colab": {
          "base_uri": "https://localhost:8080/"
        },
        "id": "Vd-iuRtjZoPg",
        "outputId": "13086a88-0753-4369-ded2-82db84d82bf4"
      },
      "execution_count": 7,
      "outputs": [
        {
          "output_type": "stream",
          "name": "stdout",
          "text": [
            "A     10\n",
            "B    100\n",
            "Name: x, dtype: int64\n",
            "A     10\n",
            "B    100\n",
            "Name: x, dtype: int64\n"
          ]
        }
      ]
    },
    {
      "cell_type": "code",
      "source": [
        "# Q5) Handling Missing Values in pandas\n",
        "# dropna(): Remove missing values.\n",
        "# fillna(): Fill missing values with a specified value.\n",
        "# isna(): Detect missing values.\n",
        "# notna(): Detect existing (non-missing) values.\n",
        "\n",
        "df = pd.DataFrame({'A': [1, 2, None], 'B': [4, None, 6]})\n",
        "\n",
        "# Drop rows with missing values\n",
        "df_dropped = df.dropna()\n",
        "\n",
        "# Fill missing values\n",
        "df_filled = df.fillna(0)\n",
        "\n",
        "print(df_dropped)\n",
        "print(df_filled)"
      ],
      "metadata": {
        "colab": {
          "base_uri": "https://localhost:8080/"
        },
        "id": "PkWC3G6KbIlq",
        "outputId": "2cf02653-2ad2-4002-87da-005b46db56c6"
      },
      "execution_count": 8,
      "outputs": [
        {
          "output_type": "stream",
          "name": "stdout",
          "text": [
            "     A    B\n",
            "0  1.0  4.0\n",
            "     A    B\n",
            "0  1.0  4.0\n",
            "1  2.0  0.0\n",
            "2  0.0  6.0\n"
          ]
        }
      ]
    },
    {
      "cell_type": "code",
      "source": [
        "# Q6) Difference between head, tail, and sample in pandas\n",
        "# head(): Returns the first n rows (default is 5).\n",
        "# tail(): Returns the last n rows (default is 5).\n",
        "# sample(): Returns a random sample of n rows.\n",
        "\n",
        "df = pd.DataFrame({'A': range(10), 'B': range(10, 20)})\n",
        "\n",
        "print(df.head())\n",
        "print(df.tail())\n",
        "print(df.sample(3))"
      ],
      "metadata": {
        "colab": {
          "base_uri": "https://localhost:8080/"
        },
        "id": "SsPdqmWBbTbc",
        "outputId": "231f3743-b259-41db-e1a8-530b2248d6ea"
      },
      "execution_count": 9,
      "outputs": [
        {
          "output_type": "stream",
          "name": "stdout",
          "text": [
            "   A   B\n",
            "0  0  10\n",
            "1  1  11\n",
            "2  2  12\n",
            "3  3  13\n",
            "4  4  14\n",
            "   A   B\n",
            "5  5  15\n",
            "6  6  16\n",
            "7  7  17\n",
            "8  8  18\n",
            "9  9  19\n",
            "   A   B\n",
            "6  6  16\n",
            "7  7  17\n",
            "4  4  14\n"
          ]
        }
      ]
    },
    {
      "cell_type": "code",
      "source": [
        "# Q7) Difference between describe and info method in pandas\n",
        "# describe(): Provides summary statistics of numerical columns (like count, mean, std, min, 25%, 50%, 75%, and max).\n",
        "# info(): Provides a concise summary of the DataFrame, including the index dtype, column dtypes, non-null values, and memory usage.\n",
        "\n",
        "df = pd.DataFrame({'A': [1, 2, 3], 'B': [4, 5, 6]})\n",
        "\n",
        "print(df.describe())\n",
        "print(df.info())"
      ],
      "metadata": {
        "colab": {
          "base_uri": "https://localhost:8080/"
        },
        "id": "UhE9aQcJbdQV",
        "outputId": "9103b419-a9c0-4cea-cfb3-bb1bb66bdf93"
      },
      "execution_count": 10,
      "outputs": [
        {
          "output_type": "stream",
          "name": "stdout",
          "text": [
            "         A    B\n",
            "count  3.0  3.0\n",
            "mean   2.0  5.0\n",
            "std    1.0  1.0\n",
            "min    1.0  4.0\n",
            "25%    1.5  4.5\n",
            "50%    2.0  5.0\n",
            "75%    2.5  5.5\n",
            "max    3.0  6.0\n",
            "<class 'pandas.core.frame.DataFrame'>\n",
            "RangeIndex: 3 entries, 0 to 2\n",
            "Data columns (total 2 columns):\n",
            " #   Column  Non-Null Count  Dtype\n",
            "---  ------  --------------  -----\n",
            " 0   A       3 non-null      int64\n",
            " 1   B       3 non-null      int64\n",
            "dtypes: int64(2)\n",
            "memory usage: 176.0 bytes\n",
            "None\n"
          ]
        }
      ]
    },
    {
      "cell_type": "code",
      "source": [
        "# Q8) Difference between Mean and Median\n",
        "\n",
        "# Mean: The average of a set of numbers.\n",
        "# mean = sum(numbers) / count(numbers)\n",
        "\n",
        "# Median: The middle value in a sorted list of numbers. If the list has an even number of elements, the median is the average of the two middle numbers.\n",
        "numbers = [1, 2, 3, 4, 5]\n",
        "# median = np.median(numbers)\n",
        "3325"
      ],
      "metadata": {
        "colab": {
          "base_uri": "https://localhost:8080/"
        },
        "id": "BUruCHD4blmy",
        "outputId": "88b95447-c6aa-4832-e408-b183a08da647"
      },
      "execution_count": 12,
      "outputs": [
        {
          "output_type": "execute_result",
          "data": {
            "text/plain": [
              "3325"
            ]
          },
          "metadata": {},
          "execution_count": 12
        }
      ]
    },
    {
      "cell_type": "code",
      "source": [
        "# Q9) Difference between merge and concat in pandas\n",
        "# merge: Combines DataFrames based on common columns or indices, similar to SQL JOIN operations.\n",
        "# concat: Combines DataFrames along a particular axis (rows or columns).\n",
        "\n",
        "df1 = pd.DataFrame({'key': ['A', 'B', 'C'], 'value1': [1, 2, 3]})\n",
        "df2 = pd.DataFrame({'key': ['A', 'B', 'D'], 'value2': [4, 5, 6]})\n",
        "merged = pd.merge(df1, df2, on='key', how='inner')\n",
        "print(merged)\n"
      ],
      "metadata": {
        "colab": {
          "base_uri": "https://localhost:8080/"
        },
        "id": "RvR9bForbzqd",
        "outputId": "062f442f-7d1d-42d4-d942-7771d74780e2"
      },
      "execution_count": 14,
      "outputs": [
        {
          "output_type": "stream",
          "name": "stdout",
          "text": [
            "  key  value1  value2\n",
            "0   A       1       4\n",
            "1   B       2       5\n"
          ]
        }
      ]
    },
    {
      "cell_type": "code",
      "source": [],
      "metadata": {
        "id": "RG_wnFUqdvrv"
      },
      "execution_count": null,
      "outputs": []
    }
  ]
}